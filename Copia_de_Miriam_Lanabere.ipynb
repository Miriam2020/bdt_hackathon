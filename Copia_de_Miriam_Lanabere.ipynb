{
  "nbformat": 4,
  "nbformat_minor": 0,
  "metadata": {
    "accelerator": "TPU",
    "colab": {
      "name": "Copia de Miriam_Lanabere.ipynb",
      "provenance": [],
      "collapsed_sections": []
    },
    "kernelspec": {
      "display_name": "Python 3",
      "name": "python3"
    },
    "language_info": {
      "name": "python"
    }
  },
  "cells": [
    {
      "cell_type": "markdown",
      "metadata": {
        "id": "ofnHMrSjgd1T"
      },
      "source": [
        "Individual challenge:\n",
        "* **Hackaton: #bdt_hackaton** <br>\n",
        "* **Author: Miriam Lanabere** <br>\n",
        "<br>\n",
        "---"
      ]
    },
    {
      "cell_type": "code",
      "metadata": {
        "colab": {
          "base_uri": "https://localhost:8080/"
        },
        "id": "1bFWzlEA468I",
        "outputId": "780591e6-3673-45f5-9084-2554d88527cc"
      },
      "source": [
        "from google.colab import drive\n",
        "drive.mount('/content/drive')\n",
        "import pandas as pd\n",
        "import numpy as np\n",
        "import matplotlib.pyplot as plt\n",
        "import seaborn as sns\n",
        "from sklearn.model_selection import train_test_split\n",
        "from sklearn.model_selection import train_test_split\n",
        "from sklearn.model_selection import StratifiedKFold\n",
        "from xgboost.sklearn import XGBClassifier\n",
        "from scipy import stats as s\n",
        "from sklearn.decomposition import PCA\n",
        "from sklearn.neighbors import KNeighborsClassifier\n",
        "from sklearn.model_selection import cross_val_score, KFold\n",
        "from imblearn.under_sampling import RandomUnderSampler\n",
        "from imblearn.under_sampling import CondensedNearestNeighbour\n",
        "from sklearn.preprocessing import StandardScaler\n",
        "\n",
        "from sklearn.model_selection import GridSearchCV, cross_val_score, StratifiedKFold\n",
        "from sklearn.model_selection import RandomizedSearchCV\n",
        "\n",
        "from sklearn import metrics\n",
        "from sklearn.metrics import accuracy_score\n",
        "from sklearn.metrics import confusion_matrix\n",
        "from sklearn.metrics import classification_report\n",
        "from sklearn.metrics import roc_auc_score\n",
        "from sklearn.metrics import roc_curve\n",
        "from imblearn.over_sampling import SMOTENC\n",
        "from imblearn.over_sampling import SMOTE\n",
        "\n",
        "!pip install imbalanced-learn"
      ],
      "execution_count": null,
      "outputs": [
        {
          "output_type": "stream",
          "text": [
            "Mounted at /content/drive\n"
          ],
          "name": "stdout"
        },
        {
          "output_type": "stream",
          "text": [
            "/usr/local/lib/python3.7/dist-packages/sklearn/externals/six.py:31: FutureWarning: The module is deprecated in version 0.21 and will be removed in version 0.23 since we've dropped support for Python 2.7. Please rely on the official version of six (https://pypi.org/project/six/).\n",
            "  \"(https://pypi.org/project/six/).\", FutureWarning)\n",
            "/usr/local/lib/python3.7/dist-packages/sklearn/utils/deprecation.py:144: FutureWarning: The sklearn.neighbors.base module is  deprecated in version 0.22 and will be removed in version 0.24. The corresponding classes / functions should instead be imported from sklearn.neighbors. Anything that cannot be imported from sklearn.neighbors is now part of the private API.\n",
            "  warnings.warn(message, FutureWarning)\n"
          ],
          "name": "stderr"
        },
        {
          "output_type": "stream",
          "text": [
            "Requirement already satisfied: imbalanced-learn in /usr/local/lib/python3.7/dist-packages (0.4.3)\n",
            "Requirement already satisfied: scikit-learn>=0.20 in /usr/local/lib/python3.7/dist-packages (from imbalanced-learn) (0.22.2.post1)\n",
            "Requirement already satisfied: scipy>=0.13.3 in /usr/local/lib/python3.7/dist-packages (from imbalanced-learn) (1.4.1)\n",
            "Requirement already satisfied: numpy>=1.8.2 in /usr/local/lib/python3.7/dist-packages (from imbalanced-learn) (1.19.5)\n",
            "Requirement already satisfied: joblib>=0.11 in /usr/local/lib/python3.7/dist-packages (from scikit-learn>=0.20->imbalanced-learn) (1.0.1)\n"
          ],
          "name": "stdout"
        }
      ]
    },
    {
      "cell_type": "markdown",
      "metadata": {
        "id": "sAtpzIjTnC-s"
      },
      "source": [
        "**LHC sensors**\n",
        "\n",
        "The Large Hadron Collider (LHC) is the world’s largest and most powerful particle accelerator. It consists of a 27-kilometre ring of superconducting magnets with a number of accelerating structures to boost the energy of the particles along the way. <br>\n",
        "\n",
        "Inside the LHC, two particle beams travel at close to the speed of light before they are made to collide. The beams travel in opposite directions in separate beam pipes – two tubes kept at ultrahigh vacuum. They are guided around the\n",
        "accelerator ring by a strong magnetic field maintained by superconducting electromagnets. Below a certain characteristic temperature, some materials enter a superconducting state and offer no resistance to the passage of\n",
        "electrical current. The electromagnets in the LHC are therefore chilled to ‑271.3°C (1.9K) – a temperature colder than outer space – to take advantage of this effect. The accelerator is connected to a vast distribution system of liquid helium, which cools the magnets, as well as to other supply services. <br>\n",
        "\n",
        "When hadrons meet during an LHC collision, they break apart and the quarks and gluons come spilling out. They interact and pull more quarks and gluons out of space, eventually forming a shower of fast-moving hadrons. <br>\n",
        "\n",
        "**The challenge**\n",
        "\n",
        "Generate a Machine Learning model that allows to predict which particle has been produced after the collision of hadrons from the measurements taken by the LHC sensors.\n"
      ]
    },
    {
      "cell_type": "markdown",
      "metadata": {
        "id": "wvXuj-DTy9Ky"
      },
      "source": [
        "<a id='Index'></a>\n",
        "##Index\n",
        "\n",
        "[Index ▲](#Index)\n",
        "\n",
        "1. [Dataset](#dataset)\n",
        "1. [Wrangling, exploration & cleaning](#eda)\n",
        "1. [Model training](#training)\n",
        "1. [Model testing](#testing)\n",
        "1. [Results](#results)"
      ]
    },
    {
      "cell_type": "markdown",
      "metadata": {
        "id": "y18WK3fY1NKF"
      },
      "source": [
        "<a id='dataset'></a>\n",
        "## Dataset\n",
        "[Index ▲](#Index)\n",
        "\n",
        "**Introduction**\n",
        "\n",
        "In particle physics, colliders are used as research tools: they accelerate particles to very high kinetic energies that allow them to collide with other particles. Analysis of the by-products of these collisions provides scientists with good evidence of the structure of the subatomic world and the laws of nature that govern it. Many of these by-products are produced only by high-energy collisions and decay after very short periods of time. Therefore, many of them are difficult or almost impossible to detect in any other way.\n",
        "\n",
        "**Variables**\n",
        "\n",
        "This dataset is composed of 10 columns showing the data obtained by the LHC sensors after the collision of particles: <br>\n",
        "*   alpha_1\n",
        "*   alpha_2\n",
        "*   alpha_3\n",
        "*   beta_1\n",
        "*   beta_2\n",
        "*   beta_3\n",
        "*   gamma_1\n",
        "*   gamma_2\n",
        "*   gamma_3\n",
        "*   theta\n",
        "\n",
        "The eleventh column is the average noise measured by all the sensors: <br>\n",
        "*   noise\n",
        "\n",
        "And the last column is the one that represents the elemental particle that has been created by the high-energy collision of particles: <br>\n",
        "*   Particle --> **Target**\n",
        "\n",
        "**Source**\n",
        "\n",
        "The dataset has been specially created for this challenge by Nuwe"
      ]
    },
    {
      "cell_type": "code",
      "metadata": {
        "colab": {
          "base_uri": "https://localhost:8080/",
          "height": 197
        },
        "id": "jWfLMfX16tNx",
        "outputId": "f2a0d257-87af-4e17-85e9-e1586dcac5eb"
      },
      "source": [
        "df = pd.read_csv(\"/content/drive/MyDrive/Hackaton/particles.csv\", sep=\",\")\n",
        "df.head()"
      ],
      "execution_count": null,
      "outputs": [
        {
          "output_type": "execute_result",
          "data": {
            "text/html": [
              "<div>\n",
              "<style scoped>\n",
              "    .dataframe tbody tr th:only-of-type {\n",
              "        vertical-align: middle;\n",
              "    }\n",
              "\n",
              "    .dataframe tbody tr th {\n",
              "        vertical-align: top;\n",
              "    }\n",
              "\n",
              "    .dataframe thead th {\n",
              "        text-align: right;\n",
              "    }\n",
              "</style>\n",
              "<table border=\"1\" class=\"dataframe\">\n",
              "  <thead>\n",
              "    <tr style=\"text-align: right;\">\n",
              "      <th></th>\n",
              "      <th>alpha_1</th>\n",
              "      <th>alpha_2</th>\n",
              "      <th>alpha_3</th>\n",
              "      <th>beta_1</th>\n",
              "      <th>beta_2</th>\n",
              "      <th>beta_3</th>\n",
              "      <th>gamma_1</th>\n",
              "      <th>gamma_2</th>\n",
              "      <th>gamma_3</th>\n",
              "      <th>theta</th>\n",
              "      <th>noise</th>\n",
              "      <th>Particle</th>\n",
              "    </tr>\n",
              "  </thead>\n",
              "  <tbody>\n",
              "    <tr>\n",
              "      <th>0</th>\n",
              "      <td>NaN</td>\n",
              "      <td>-59.730861</td>\n",
              "      <td>396.928619</td>\n",
              "      <td>9.761703</td>\n",
              "      <td>-137.558889</td>\n",
              "      <td>159.598109</td>\n",
              "      <td>-137.558889</td>\n",
              "      <td>53.930955</td>\n",
              "      <td>154.713810</td>\n",
              "      <td>-232.436087</td>\n",
              "      <td>99.243140</td>\n",
              "      <td>3</td>\n",
              "    </tr>\n",
              "    <tr>\n",
              "      <th>1</th>\n",
              "      <td>147.781782</td>\n",
              "      <td>153.729532</td>\n",
              "      <td>111.998962</td>\n",
              "      <td>-174.941235</td>\n",
              "      <td>-97.888332</td>\n",
              "      <td>26.493593</td>\n",
              "      <td>-97.888332</td>\n",
              "      <td>-30.506871</td>\n",
              "      <td>-166.347802</td>\n",
              "      <td>-195.010710</td>\n",
              "      <td>20.242743</td>\n",
              "      <td>0</td>\n",
              "    </tr>\n",
              "    <tr>\n",
              "      <th>2</th>\n",
              "      <td>242.220616</td>\n",
              "      <td>82.947635</td>\n",
              "      <td>-102.073856</td>\n",
              "      <td>116.334349</td>\n",
              "      <td>-101.746729</td>\n",
              "      <td>176.452824</td>\n",
              "      <td>-101.746729</td>\n",
              "      <td>-33.419984</td>\n",
              "      <td>44.082548</td>\n",
              "      <td>-173.928682</td>\n",
              "      <td>3.806943</td>\n",
              "      <td>1</td>\n",
              "    </tr>\n",
              "    <tr>\n",
              "      <th>3</th>\n",
              "      <td>140.542085</td>\n",
              "      <td>-110.129037</td>\n",
              "      <td>215.560355</td>\n",
              "      <td>-11.927860</td>\n",
              "      <td>-11.257902</td>\n",
              "      <td>21.648833</td>\n",
              "      <td>-11.257902</td>\n",
              "      <td>240.685681</td>\n",
              "      <td>133.441269</td>\n",
              "      <td>-276.382025</td>\n",
              "      <td>0.336025</td>\n",
              "      <td>0</td>\n",
              "    </tr>\n",
              "    <tr>\n",
              "      <th>4</th>\n",
              "      <td>169.367809</td>\n",
              "      <td>-92.182925</td>\n",
              "      <td>159.995515</td>\n",
              "      <td>-272.230740</td>\n",
              "      <td>-80.483153</td>\n",
              "      <td>-97.698901</td>\n",
              "      <td>-80.483153</td>\n",
              "      <td>16.251613</td>\n",
              "      <td>-13.177148</td>\n",
              "      <td>-100.316959</td>\n",
              "      <td>24.459551</td>\n",
              "      <td>0</td>\n",
              "    </tr>\n",
              "  </tbody>\n",
              "</table>\n",
              "</div>"
            ],
            "text/plain": [
              "      alpha_1     alpha_2     alpha_3  ...       theta      noise  Particle\n",
              "0         NaN  -59.730861  396.928619  ... -232.436087  99.243140         3\n",
              "1  147.781782  153.729532  111.998962  ... -195.010710  20.242743         0\n",
              "2  242.220616   82.947635 -102.073856  ... -173.928682   3.806943         1\n",
              "3  140.542085 -110.129037  215.560355  ... -276.382025   0.336025         0\n",
              "4  169.367809  -92.182925  159.995515  ... -100.316959  24.459551         0\n",
              "\n",
              "[5 rows x 12 columns]"
            ]
          },
          "metadata": {
            "tags": []
          },
          "execution_count": 2
        }
      ]
    },
    {
      "cell_type": "markdown",
      "metadata": {
        "id": "ckJehouI_qNQ"
      },
      "source": [
        "<a id='eda'></a>\n",
        "## Wrangling, exploration & cleaning\n",
        "[Index ▲](#Index)"
      ]
    },
    {
      "cell_type": "markdown",
      "metadata": {
        "id": "NnEKtQVWSEw4"
      },
      "source": [
        "**Shape, size & type**"
      ]
    },
    {
      "cell_type": "code",
      "metadata": {
        "colab": {
          "base_uri": "https://localhost:8080/"
        },
        "id": "dIyTAwSiCxFR",
        "outputId": "32f1d318-2356-4a8b-98bc-dc976b58f198"
      },
      "source": [
        "df.info()"
      ],
      "execution_count": null,
      "outputs": [
        {
          "output_type": "stream",
          "text": [
            "<class 'pandas.core.frame.DataFrame'>\n",
            "RangeIndex: 127321 entries, 0 to 127320\n",
            "Data columns (total 12 columns):\n",
            " #   Column    Non-Null Count   Dtype  \n",
            "---  ------    --------------   -----  \n",
            " 0   alpha_1   109132 non-null  float64\n",
            " 1   alpha_2   127321 non-null  float64\n",
            " 2   alpha_3   127321 non-null  float64\n",
            " 3   beta_1    127321 non-null  float64\n",
            " 4   beta_2    127131 non-null  float64\n",
            " 5   beta_3    127206 non-null  float64\n",
            " 6   gamma_1   127321 non-null  float64\n",
            " 7   gamma_2   126594 non-null  float64\n",
            " 8   gamma_3   117897 non-null  float64\n",
            " 9   theta     126595 non-null  float64\n",
            " 10  noise     127321 non-null  float64\n",
            " 11  Particle  127321 non-null  int64  \n",
            "dtypes: float64(11), int64(1)\n",
            "memory usage: 11.7 MB\n"
          ],
          "name": "stdout"
        }
      ]
    },
    {
      "cell_type": "markdown",
      "metadata": {
        "id": "Hq8Ig9qReMFA"
      },
      "source": [
        "**Descriptive statistics**"
      ]
    },
    {
      "cell_type": "code",
      "metadata": {
        "colab": {
          "base_uri": "https://localhost:8080/",
          "height": 297
        },
        "id": "dH_NfCQnOx7j",
        "outputId": "6812db6c-54dd-40ea-e82d-39eeb6f365f3"
      },
      "source": [
        "df.describe()"
      ],
      "execution_count": null,
      "outputs": [
        {
          "output_type": "execute_result",
          "data": {
            "text/html": [
              "<div>\n",
              "<style scoped>\n",
              "    .dataframe tbody tr th:only-of-type {\n",
              "        vertical-align: middle;\n",
              "    }\n",
              "\n",
              "    .dataframe tbody tr th {\n",
              "        vertical-align: top;\n",
              "    }\n",
              "\n",
              "    .dataframe thead th {\n",
              "        text-align: right;\n",
              "    }\n",
              "</style>\n",
              "<table border=\"1\" class=\"dataframe\">\n",
              "  <thead>\n",
              "    <tr style=\"text-align: right;\">\n",
              "      <th></th>\n",
              "      <th>alpha_1</th>\n",
              "      <th>alpha_2</th>\n",
              "      <th>alpha_3</th>\n",
              "      <th>beta_1</th>\n",
              "      <th>beta_2</th>\n",
              "      <th>beta_3</th>\n",
              "      <th>gamma_1</th>\n",
              "      <th>gamma_2</th>\n",
              "      <th>gamma_3</th>\n",
              "      <th>theta</th>\n",
              "      <th>noise</th>\n",
              "      <th>Particle</th>\n",
              "    </tr>\n",
              "  </thead>\n",
              "  <tbody>\n",
              "    <tr>\n",
              "      <th>count</th>\n",
              "      <td>109132.000000</td>\n",
              "      <td>127321.000000</td>\n",
              "      <td>127321.000000</td>\n",
              "      <td>127321.000000</td>\n",
              "      <td>127131.000000</td>\n",
              "      <td>127206.000000</td>\n",
              "      <td>127321.000000</td>\n",
              "      <td>126594.000000</td>\n",
              "      <td>117897.000000</td>\n",
              "      <td>126595.000000</td>\n",
              "      <td>127321.000000</td>\n",
              "      <td>127321.000000</td>\n",
              "    </tr>\n",
              "    <tr>\n",
              "      <th>mean</th>\n",
              "      <td>-10.713873</td>\n",
              "      <td>-0.270224</td>\n",
              "      <td>49.546923</td>\n",
              "      <td>7.508049</td>\n",
              "      <td>46.853638</td>\n",
              "      <td>0.451485</td>\n",
              "      <td>46.845556</td>\n",
              "      <td>-0.040888</td>\n",
              "      <td>-20.881407</td>\n",
              "      <td>-61.594057</td>\n",
              "      <td>50.126020</td>\n",
              "      <td>1.647804</td>\n",
              "    </tr>\n",
              "    <tr>\n",
              "      <th>std</th>\n",
              "      <td>152.987128</td>\n",
              "      <td>100.044696</td>\n",
              "      <td>221.503776</td>\n",
              "      <td>164.993428</td>\n",
              "      <td>160.134335</td>\n",
              "      <td>99.979061</td>\n",
              "      <td>160.142626</td>\n",
              "      <td>99.797656</td>\n",
              "      <td>160.637008</td>\n",
              "      <td>146.954921</td>\n",
              "      <td>28.848755</td>\n",
              "      <td>1.470649</td>\n",
              "    </tr>\n",
              "    <tr>\n",
              "      <th>min</th>\n",
              "      <td>-779.841923</td>\n",
              "      <td>-391.102365</td>\n",
              "      <td>-1263.945127</td>\n",
              "      <td>-701.930722</td>\n",
              "      <td>-655.626984</td>\n",
              "      <td>-448.118855</td>\n",
              "      <td>-655.626984</td>\n",
              "      <td>-435.684650</td>\n",
              "      <td>-719.937495</td>\n",
              "      <td>-653.437102</td>\n",
              "      <td>0.000390</td>\n",
              "      <td>0.000000</td>\n",
              "    </tr>\n",
              "    <tr>\n",
              "      <th>25%</th>\n",
              "      <td>-118.765902</td>\n",
              "      <td>-68.036224</td>\n",
              "      <td>-102.428650</td>\n",
              "      <td>-109.328232</td>\n",
              "      <td>-59.311413</td>\n",
              "      <td>-66.838936</td>\n",
              "      <td>-59.320379</td>\n",
              "      <td>-67.011881</td>\n",
              "      <td>-133.157334</td>\n",
              "      <td>-158.912087</td>\n",
              "      <td>25.125602</td>\n",
              "      <td>0.000000</td>\n",
              "    </tr>\n",
              "    <tr>\n",
              "      <th>50%</th>\n",
              "      <td>-0.787086</td>\n",
              "      <td>-0.112444</td>\n",
              "      <td>48.483502</td>\n",
              "      <td>6.053932</td>\n",
              "      <td>55.785954</td>\n",
              "      <td>0.571383</td>\n",
              "      <td>55.772838</td>\n",
              "      <td>-0.265758</td>\n",
              "      <td>-14.309868</td>\n",
              "      <td>-75.169482</td>\n",
              "      <td>50.213148</td>\n",
              "      <td>2.000000</td>\n",
              "    </tr>\n",
              "    <tr>\n",
              "      <th>75%</th>\n",
              "      <td>101.815933</td>\n",
              "      <td>66.895676</td>\n",
              "      <td>198.157415</td>\n",
              "      <td>123.154096</td>\n",
              "      <td>155.939039</td>\n",
              "      <td>67.675433</td>\n",
              "      <td>155.939228</td>\n",
              "      <td>66.893239</td>\n",
              "      <td>95.426099</td>\n",
              "      <td>20.771011</td>\n",
              "      <td>75.115084</td>\n",
              "      <td>2.000000</td>\n",
              "    </tr>\n",
              "    <tr>\n",
              "      <th>max</th>\n",
              "      <td>698.044837</td>\n",
              "      <td>444.209708</td>\n",
              "      <td>1383.265329</td>\n",
              "      <td>666.078562</td>\n",
              "      <td>726.063419</td>\n",
              "      <td>448.925730</td>\n",
              "      <td>726.063419</td>\n",
              "      <td>544.546234</td>\n",
              "      <td>682.413287</td>\n",
              "      <td>689.548943</td>\n",
              "      <td>99.993348</td>\n",
              "      <td>7.000000</td>\n",
              "    </tr>\n",
              "  </tbody>\n",
              "</table>\n",
              "</div>"
            ],
            "text/plain": [
              "             alpha_1        alpha_2  ...          noise       Particle\n",
              "count  109132.000000  127321.000000  ...  127321.000000  127321.000000\n",
              "mean      -10.713873      -0.270224  ...      50.126020       1.647804\n",
              "std       152.987128     100.044696  ...      28.848755       1.470649\n",
              "min      -779.841923    -391.102365  ...       0.000390       0.000000\n",
              "25%      -118.765902     -68.036224  ...      25.125602       0.000000\n",
              "50%        -0.787086      -0.112444  ...      50.213148       2.000000\n",
              "75%       101.815933      66.895676  ...      75.115084       2.000000\n",
              "max       698.044837     444.209708  ...      99.993348       7.000000\n",
              "\n",
              "[8 rows x 12 columns]"
            ]
          },
          "metadata": {
            "tags": []
          },
          "execution_count": 5
        }
      ]
    },
    {
      "cell_type": "code",
      "metadata": {
        "colab": {
          "base_uri": "https://localhost:8080/",
          "height": 312
        },
        "id": "m4C6uKTpNXqM",
        "outputId": "f2e114fb-d738-4b7c-cc81-7998237c34b7"
      },
      "source": [
        "plt.figure(figsize=(14,4))\n",
        "sns.boxplot(x=df['Particle'], y=df['alpha_1'],palette= \"Set2\").set_title('Particle vs Alpha_1')"
      ],
      "execution_count": null,
      "outputs": [
        {
          "output_type": "execute_result",
          "data": {
            "text/plain": [
              "Text(0.5, 1.0, 'Particle vs Alpha_1')"
            ]
          },
          "metadata": {
            "tags": []
          },
          "execution_count": 6
        },
        {
          "output_type": "display_data",
          "data": {
            "image/png": "[encoded data removed]",
            "text/plain": [
              "<Figure size 1008x288 with 1 Axes>"
            ]
          },
          "metadata": {
            "tags": [],
            "needs_background": "light"
          }
        }
      ]
    },
    {
      "cell_type": "code",
      "metadata": {
        "colab": {
          "base_uri": "https://localhost:8080/",
          "height": 312
        },
        "id": "6pA6T2elOqeR",
        "outputId": "5f7f8b76-5add-4cad-f992-5f6f38de223f"
      },
      "source": [
        "plt.figure(figsize=(14,4))\n",
        "sns.boxplot(x=df['Particle'], y=df['alpha_2'],palette= \"Set2\").set_title('Particle vs Alpha_2')"
      ],
      "execution_count": null,
      "outputs": [
        {
          "output_type": "execute_result",
          "data": {
            "text/plain": [
              "Text(0.5, 1.0, 'Particle vs Alpha_2')"
            ]
          },
          "metadata": {
            "tags": []
          },
          "execution_count": 7
        },
        {
          "output_type": "display_data",
          "data": {
            "image/png": "[encoded data removed]",
            "text/plain": [
              "<Figure size 1008x288 with 1 Axes>"
            ]
          },
          "metadata": {
            "tags": [],
            "needs_background": "light"
          }
        }
      ]
    },
    {
      "cell_type": "code",
      "metadata": {
        "colab": {
          "base_uri": "https://localhost:8080/",
          "height": 312
        },
        "id": "ovMMcOF_OucY",
        "outputId": "dcf1599f-d877-41e9-b9b2-e4a88f8bece0"
      },
      "source": [
        "plt.figure(figsize=(14,4))\n",
        "sns.boxplot(x=df['Particle'], y=df['alpha_3'],palette= \"Set2\").set_title('Particle vs Alpha_3')"
      ],
      "execution_count": null,
      "outputs": [
        {
          "output_type": "execute_result",
          "data": {
            "text/plain": [
              "Text(0.5, 1.0, 'Particle vs Alpha_3')"
            ]
          },
          "metadata": {
            "tags": []
          },
          "execution_count": 8
        },
        {
          "output_type": "display_data",
          "data": {
            "image/png": "[encoded data removed]",
            "text/plain": [
              "<Figure size 1008x288 with 1 Axes>"
            ]
          },
          "metadata": {
            "tags": [],
            "needs_background": "light"
          }
        }
      ]
    },
    {
      "cell_type": "code",
      "metadata": {
        "colab": {
          "base_uri": "https://localhost:8080/",
          "height": 312
        },
        "id": "s2H400_8O3cw",
        "outputId": "72be77d3-fea2-4809-bed9-b06d79c24675"
      },
      "source": [
        "plt.figure(figsize=(14,4))\n",
        "sns.boxplot(x=df['Particle'], y=df['beta_1'],palette= \"Set2\").set_title('Particle vs beta_1')"
      ],
      "execution_count": null,
      "outputs": [
        {
          "output_type": "execute_result",
          "data": {
            "text/plain": [
              "Text(0.5, 1.0, 'Particle vs beta_1')"
            ]
          },
          "metadata": {
            "tags": []
          },
          "execution_count": 9
        },
        {
          "output_type": "display_data",
          "data": {
            "image/png": "[encoded data removed]",
            "text/plain": [
              "<Figure size 1008x288 with 1 Axes>"
            ]
          },
          "metadata": {
            "tags": [],
            "needs_background": "light"
          }
        }
      ]
    },
    {
      "cell_type": "code",
      "metadata": {
        "colab": {
          "base_uri": "https://localhost:8080/",
          "height": 312
        },
        "id": "moLJCEWTPB0C",
        "outputId": "ddd35868-0f23-444f-af6f-fab74e9e8b7d"
      },
      "source": [
        "plt.figure(figsize=(14,4))\n",
        "sns.boxplot(x=df['Particle'], y=df['beta_2'],palette= \"Set2\").set_title('Particle vs beta_2')"
      ],
      "execution_count": null,
      "outputs": [
        {
          "output_type": "execute_result",
          "data": {
            "text/plain": [
              "Text(0.5, 1.0, 'Particle vs beta_2')"
            ]
          },
          "metadata": {
            "tags": []
          },
          "execution_count": 10
        },
        {
          "output_type": "display_data",
          "data": {
            "image/png": "[encoded data removed]",
            "text/plain": [
              "<Figure size 1008x288 with 1 Axes>"
            ]
          },
          "metadata": {
            "tags": [],
            "needs_background": "light"
          }
        }
      ]
    },
    {
      "cell_type": "code",
      "metadata": {
        "colab": {
          "base_uri": "https://localhost:8080/",
          "height": 312
        },
        "id": "Wtcb7Z5FPIPh",
        "outputId": "9010cdca-5da1-4ba9-f921-5e8278779a77"
      },
      "source": [
        "plt.figure(figsize=(14,4))\n",
        "sns.boxplot(x=df['Particle'], y=df['beta_2'],palette= \"Set2\").set_title('Particle vs beta_1')"
      ],
      "execution_count": null,
      "outputs": [
        {
          "output_type": "execute_result",
          "data": {
            "text/plain": [
              "Text(0.5, 1.0, 'Particle vs beta_1')"
            ]
          },
          "metadata": {
            "tags": []
          },
          "execution_count": 11
        },
        {
          "output_type": "display_data",
          "data": {
            "image/png": "[encoded data removed]",
            "text/plain": [
              "<Figure size 1008x288 with 1 Axes>"
            ]
          },
          "metadata": {
            "tags": [],
            "needs_background": "light"
          }
        }
      ]
    },
    {
      "cell_type": "code",
      "metadata": {
        "colab": {
          "base_uri": "https://localhost:8080/",
          "height": 312
        },
        "id": "wzLhpQ6pPN3b",
        "outputId": "7e9cabb7-2311-4016-a5ba-7e806f5a0d52"
      },
      "source": [
        "plt.figure(figsize=(14,4))\n",
        "sns.boxplot(x=df['Particle'], y=df['gamma_1'],palette= \"Set2\").set_title('Particle vs gamma_1')"
      ],
      "execution_count": null,
      "outputs": [
        {
          "output_type": "execute_result",
          "data": {
            "text/plain": [
              "Text(0.5, 1.0, 'Particle vs gamma_1')"
            ]
          },
          "metadata": {
            "tags": []
          },
          "execution_count": 12
        },
        {
          "output_type": "display_data",
          "data": {
            "image/png": "[encoded data removed]",
            "text/plain": [
              "<Figure size 1008x288 with 1 Axes>"
            ]
          },
          "metadata": {
            "tags": [],
            "needs_background": "light"
          }
        }
      ]
    },
    {
      "cell_type": "code",
      "metadata": {
        "colab": {
          "base_uri": "https://localhost:8080/",
          "height": 312
        },
        "id": "1_uznKIuPULf",
        "outputId": "0fa6104a-a354-4ff1-e062-9c61c4f3b322"
      },
      "source": [
        "plt.figure(figsize=(14,4))\n",
        "sns.boxplot(x=df['Particle'], y=df['gamma_2'],palette= \"Set2\").set_title('Particle vs gamma_2')"
      ],
      "execution_count": null,
      "outputs": [
        {
          "output_type": "execute_result",
          "data": {
            "text/plain": [
              "Text(0.5, 1.0, 'Particle vs gamma_2')"
            ]
          },
          "metadata": {
            "tags": []
          },
          "execution_count": 13
        },
        {
          "output_type": "display_data",
          "data": {
            "image/png": "[encoded data removed]",
            "text/plain": [
              "<Figure size 1008x288 with 1 Axes>"
            ]
          },
          "metadata": {
            "tags": [],
            "needs_background": "light"
          }
        }
      ]
    },
    {
      "cell_type": "code",
      "metadata": {
        "colab": {
          "base_uri": "https://localhost:8080/",
          "height": 312
        },
        "id": "uIPe209zPajL",
        "outputId": "f08ccd48-3459-491a-b5b6-41fc7b76a47f"
      },
      "source": [
        "plt.figure(figsize=(14,4))\n",
        "sns.boxplot(x=df['Particle'], y=df['gamma_3'],palette= \"Set2\").set_title('Particle vs gamma_3')"
      ],
      "execution_count": null,
      "outputs": [
        {
          "output_type": "execute_result",
          "data": {
            "text/plain": [
              "Text(0.5, 1.0, 'Particle vs gamma_3')"
            ]
          },
          "metadata": {
            "tags": []
          },
          "execution_count": 14
        },
        {
          "output_type": "display_data",
          "data": {
            "image/png": "[encoded data removed]",
            "text/plain": [
              "<Figure size 1008x288 with 1 Axes>"
            ]
          },
          "metadata": {
            "tags": [],
            "needs_background": "light"
          }
        }
      ]
    },
    {
      "cell_type": "code",
      "metadata": {
        "colab": {
          "base_uri": "https://localhost:8080/",
          "height": 312
        },
        "id": "_-MtXDwNPhdA",
        "outputId": "97fa7763-e652-41e9-c505-7a47b19cd4a0"
      },
      "source": [
        "plt.figure(figsize=(14,4))\n",
        "sns.boxplot(x=df['Particle'], y=df['theta'],palette= \"Set2\").set_title('Particle vs theta')"
      ],
      "execution_count": null,
      "outputs": [
        {
          "output_type": "execute_result",
          "data": {
            "text/plain": [
              "Text(0.5, 1.0, 'Particle vs theta')"
            ]
          },
          "metadata": {
            "tags": []
          },
          "execution_count": 15
        },
        {
          "output_type": "display_data",
          "data": {
            "image/png": "[encoded data removed]",
            "text/plain": [
              "<Figure size 1008x288 with 1 Axes>"
            ]
          },
          "metadata": {
            "tags": [],
            "needs_background": "light"
          }
        }
      ]
    },
    {
      "cell_type": "code",
      "metadata": {
        "colab": {
          "base_uri": "https://localhost:8080/",
          "height": 312
        },
        "id": "D8Wz1QLWPmpY",
        "outputId": "c44ed48a-fb2a-4295-bfd0-43aa4afd5d04"
      },
      "source": [
        "plt.figure(figsize=(14,4))\n",
        "sns.boxplot(x=df['Particle'], y=df['noise'],palette= \"Set2\").set_title('Particle vs noise')"
      ],
      "execution_count": null,
      "outputs": [
        {
          "output_type": "execute_result",
          "data": {
            "text/plain": [
              "Text(0.5, 1.0, 'Particle vs noise')"
            ]
          },
          "metadata": {
            "tags": []
          },
          "execution_count": 16
        },
        {
          "output_type": "display_data",
          "data": {
            "image/png": "[encoded data removed]",
            "text/plain": [
              "<Figure size 1008x288 with 1 Axes>"
            ]
          },
          "metadata": {
            "tags": [],
            "needs_background": "light"
          }
        }
      ]
    },
    {
      "cell_type": "markdown",
      "metadata": {
        "id": "Jm4Ey8SqWIIx"
      },
      "source": [
        "**Unbalanced classes**"
      ]
    },
    {
      "cell_type": "code",
      "metadata": {
        "colab": {
          "base_uri": "https://localhost:8080/",
          "height": 312
        },
        "id": "Xx1C1vAtVnU9",
        "outputId": "64659ab2-f638-4a8c-c79f-9e38285e7be4"
      },
      "source": [
        "plt.figure(figsize=(14,4))\n",
        "sns.countplot(x= 'Particle', data= df, palette= \"Set2\").set_title('Target distribution')"
      ],
      "execution_count": null,
      "outputs": [
        {
          "output_type": "execute_result",
          "data": {
            "text/plain": [
              "Text(0.5, 1.0, 'Target distribution')"
            ]
          },
          "metadata": {
            "tags": []
          },
          "execution_count": 17
        },
        {
          "output_type": "display_data",
          "data": {
            "image/png": "[encoded data removed]",
            "text/plain": [
              "<Figure size 1008x288 with 1 Axes>"
            ]
          },
          "metadata": {
            "tags": [],
            "needs_background": "light"
          }
        }
      ]
    },
    {
      "cell_type": "markdown",
      "metadata": {
        "id": "Y6TyqAugdt8I"
      },
      "source": [
        "**Nulls average**"
      ]
    },
    {
      "cell_type": "code",
      "metadata": {
        "colab": {
          "base_uri": "https://localhost:8080/"
        },
        "id": "IE583KptO_lv",
        "outputId": "0daa264e-6070-42cf-c55d-daddfb8377e4"
      },
      "source": [
        "avg_nulls = ((df.isnull().sum()) / 127321)*100\n",
        "avg_nulls.round(2)"
      ],
      "execution_count": null,
      "outputs": [
        {
          "output_type": "execute_result",
          "data": {
            "text/plain": [
              "alpha_1     14.29\n",
              "alpha_2      0.00\n",
              "alpha_3      0.00\n",
              "beta_1       0.00\n",
              "beta_2       0.15\n",
              "beta_3       0.09\n",
              "gamma_1      0.00\n",
              "gamma_2      0.57\n",
              "gamma_3      7.40\n",
              "theta        0.57\n",
              "noise        0.00\n",
              "Particle     0.00\n",
              "dtype: float64"
            ]
          },
          "metadata": {
            "tags": []
          },
          "execution_count": 18
        }
      ]
    },
    {
      "cell_type": "markdown",
      "metadata": {
        "id": "PhlydIsMRwEC"
      },
      "source": [
        "**Null imputation**"
      ]
    },
    {
      "cell_type": "code",
      "metadata": {
        "id": "8EIk7_aYI9tV"
      },
      "source": [
        "def fill_mean (column,target):\n",
        "    null_mask = (df[column].isnull()) \n",
        "    print('Antes: ',null_mask.sum())\n",
        "    unique = df[target].unique()\n",
        "    for VU in unique:\n",
        "        mask_Posicion  = (df[target] == VU) & (df[column].isnull())\n",
        "        df[column].fillna(df[df[target] == VU][column].mean(), inplace=True)\n",
        "    null_mask = (df[column].isnull()) \n",
        "    print('despues: ',null_mask.sum())"
      ],
      "execution_count": null,
      "outputs": []
    },
    {
      "cell_type": "code",
      "metadata": {
        "colab": {
          "base_uri": "https://localhost:8080/"
        },
        "id": "TdZapeXXKwLb",
        "outputId": "15507fc7-434d-4092-ff67-b9e73f1b3af8"
      },
      "source": [
        "fill_mean('alpha_1','Particle')"
      ],
      "execution_count": null,
      "outputs": [
        {
          "output_type": "stream",
          "text": [
            "Antes:  18189\n",
            "despues:  0\n"
          ],
          "name": "stdout"
        }
      ]
    },
    {
      "cell_type": "code",
      "metadata": {
        "colab": {
          "base_uri": "https://localhost:8080/"
        },
        "id": "Ks0VgF1IQBfY",
        "outputId": "b0f33870-eefe-4c1d-c5f8-780865ef4fbd"
      },
      "source": [
        "fill_mean('beta_2','Particle')"
      ],
      "execution_count": null,
      "outputs": [
        {
          "output_type": "stream",
          "text": [
            "Antes:  190\n",
            "despues:  0\n"
          ],
          "name": "stdout"
        }
      ]
    },
    {
      "cell_type": "code",
      "metadata": {
        "colab": {
          "base_uri": "https://localhost:8080/"
        },
        "id": "MDa7xStiQLBR",
        "outputId": "d2fa36d3-13b2-4b17-c524-a5bbb2f7c1c6"
      },
      "source": [
        "fill_mean('beta_3','Particle')"
      ],
      "execution_count": null,
      "outputs": [
        {
          "output_type": "stream",
          "text": [
            "Antes:  115\n",
            "despues:  0\n"
          ],
          "name": "stdout"
        }
      ]
    },
    {
      "cell_type": "code",
      "metadata": {
        "colab": {
          "base_uri": "https://localhost:8080/"
        },
        "id": "CuyTIX_TQQXd",
        "outputId": "e31b62f0-75ad-4b18-ef75-c1b4efd378f0"
      },
      "source": [
        "fill_mean('gamma_2','Particle')"
      ],
      "execution_count": null,
      "outputs": [
        {
          "output_type": "stream",
          "text": [
            "Antes:  727\n",
            "despues:  0\n"
          ],
          "name": "stdout"
        }
      ]
    },
    {
      "cell_type": "code",
      "metadata": {
        "colab": {
          "base_uri": "https://localhost:8080/"
        },
        "id": "WfUiYhhZQUXu",
        "outputId": "6cf2b494-d962-4b49-cd87-0785d4a6808e"
      },
      "source": [
        "fill_mean('gamma_3','Particle')"
      ],
      "execution_count": null,
      "outputs": [
        {
          "output_type": "stream",
          "text": [
            "Antes:  9424\n",
            "despues:  0\n"
          ],
          "name": "stdout"
        }
      ]
    },
    {
      "cell_type": "code",
      "metadata": {
        "colab": {
          "base_uri": "https://localhost:8080/"
        },
        "id": "5jTGQPjfQXIA",
        "outputId": "50884ffa-e29e-4428-e397-4c7a30952df9"
      },
      "source": [
        "fill_mean('theta','Particle')"
      ],
      "execution_count": null,
      "outputs": [
        {
          "output_type": "stream",
          "text": [
            "Antes:  726\n",
            "despues:  0\n"
          ],
          "name": "stdout"
        }
      ]
    },
    {
      "cell_type": "code",
      "metadata": {
        "colab": {
          "base_uri": "https://localhost:8080/"
        },
        "id": "7KQfguPbQaNN",
        "outputId": "e39371e6-48a7-41a0-9683-6d73e8482515"
      },
      "source": [
        "df.isnull().sum()"
      ],
      "execution_count": null,
      "outputs": [
        {
          "output_type": "execute_result",
          "data": {
            "text/plain": [
              "alpha_1     0\n",
              "alpha_2     0\n",
              "alpha_3     0\n",
              "beta_1      0\n",
              "beta_2      0\n",
              "beta_3      0\n",
              "gamma_1     0\n",
              "gamma_2     0\n",
              "gamma_3     0\n",
              "theta       0\n",
              "noise       0\n",
              "Particle    0\n",
              "dtype: int64"
            ]
          },
          "metadata": {
            "tags": []
          },
          "execution_count": 10
        }
      ]
    },
    {
      "cell_type": "markdown",
      "metadata": {
        "id": "fMzi6KUuRRJ2"
      },
      "source": [
        "<a id='training'></a>\n",
        "## Model training\n",
        "[Index ▲](#Index)"
      ]
    },
    {
      "cell_type": "code",
      "metadata": {
        "id": "TffkBMHGWfsE"
      },
      "source": [
        "X = df.drop(['Particle'], axis = 1)\n",
        "y = df['Particle']"
      ],
      "execution_count": null,
      "outputs": []
    },
    {
      "cell_type": "markdown",
      "metadata": {
        "id": "_vNgDDgGRcRR"
      },
      "source": [
        "**Strategy for minority classes**"
      ]
    },
    {
      "cell_type": "code",
      "metadata": {
        "colab": {
          "base_uri": "https://localhost:8080/"
        },
        "id": "RI9oqPNwRaCu",
        "outputId": "ced871f5-381a-4d67-9d0b-4c1ca883ea70"
      },
      "source": [
        "# OverSampling del dataset\n",
        "\n",
        "oversample = SMOTE()\n",
        "X_os, y_os = oversample.fit_resample(X, y)\n",
        "\n",
        "print('X_os:',X.shape)\n",
        "print(pd.DataFrame(y_os).value_counts())\n"
      ],
      "execution_count": null,
      "outputs": [
        {
          "output_type": "stream",
          "text": [
            "/usr/local/lib/python3.7/dist-packages/sklearn/utils/deprecation.py:87: FutureWarning: Function safe_indexing is deprecated; safe_indexing is deprecated in version 0.22 and will be removed in version 0.24.\n",
            "  warnings.warn(msg, category=FutureWarning)\n",
            "/usr/local/lib/python3.7/dist-packages/sklearn/utils/deprecation.py:87: FutureWarning: Function safe_indexing is deprecated; safe_indexing is deprecated in version 0.22 and will be removed in version 0.24.\n",
            "  warnings.warn(msg, category=FutureWarning)\n",
            "/usr/local/lib/python3.7/dist-packages/sklearn/utils/deprecation.py:87: FutureWarning: Function safe_indexing is deprecated; safe_indexing is deprecated in version 0.22 and will be removed in version 0.24.\n",
            "  warnings.warn(msg, category=FutureWarning)\n",
            "/usr/local/lib/python3.7/dist-packages/sklearn/utils/deprecation.py:87: FutureWarning: Function safe_indexing is deprecated; safe_indexing is deprecated in version 0.22 and will be removed in version 0.24.\n",
            "  warnings.warn(msg, category=FutureWarning)\n",
            "/usr/local/lib/python3.7/dist-packages/sklearn/utils/deprecation.py:87: FutureWarning: Function safe_indexing is deprecated; safe_indexing is deprecated in version 0.22 and will be removed in version 0.24.\n",
            "  warnings.warn(msg, category=FutureWarning)\n",
            "/usr/local/lib/python3.7/dist-packages/sklearn/utils/deprecation.py:87: FutureWarning: Function safe_indexing is deprecated; safe_indexing is deprecated in version 0.22 and will be removed in version 0.24.\n",
            "  warnings.warn(msg, category=FutureWarning)\n",
            "/usr/local/lib/python3.7/dist-packages/sklearn/utils/deprecation.py:87: FutureWarning: Function safe_indexing is deprecated; safe_indexing is deprecated in version 0.22 and will be removed in version 0.24.\n",
            "  warnings.warn(msg, category=FutureWarning)\n"
          ],
          "name": "stderr"
        },
        {
          "output_type": "stream",
          "text": [
            "X_os: (127321, 11)\n",
            "7    42060\n",
            "6    42060\n",
            "5    42060\n",
            "4    42060\n",
            "3    42060\n",
            "2    42060\n",
            "1    42060\n",
            "0    42060\n",
            "dtype: int64\n"
          ],
          "name": "stdout"
        }
      ]
    },
    {
      "cell_type": "markdown",
      "metadata": {
        "id": "Y_kkGh-OSLnO"
      },
      "source": [
        "**Train test split**"
      ]
    },
    {
      "cell_type": "code",
      "metadata": {
        "colab": {
          "base_uri": "https://localhost:8080/"
        },
        "id": "4FV81tqJfAyF",
        "outputId": "db6f10ea-ef00-4b0b-9d6f-28b550c838b7"
      },
      "source": [
        "X_train,X_test,y_train,y_test=train_test_split(X_os, y_os,test_size=0.33, random_state=42)\n",
        "scaler = StandardScaler()\n",
        "    \n",
        "X_train = scaler.fit_transform(X_train)\n",
        "X_test  = scaler.transform(X_test)\n",
        "\n",
        "print(\"X_train: \",X_train.shape)\n",
        "print(\"X_test: \", X_test.shape)\n",
        "print(\"-----------------------\")\n",
        "print(\"y_train: \", pd.DataFrame(y_train).value_counts())\n",
        "print(\"y_test: \", pd.DataFrame(y_test).value_counts())"
      ],
      "execution_count": null,
      "outputs": [
        {
          "output_type": "stream",
          "text": [
            "X_train:  (225441, 11)\n",
            "X_test:  (111039, 11)\n",
            "-----------------------\n",
            "y_train:  4    28383\n",
            "0    28329\n",
            "6    28267\n",
            "1    28190\n",
            "2    28115\n",
            "5    28069\n",
            "7    28055\n",
            "3    28033\n",
            "dtype: int64\n",
            "y_test:  3    14027\n",
            "7    14005\n",
            "5    13991\n",
            "2    13945\n",
            "1    13870\n",
            "6    13793\n",
            "0    13731\n",
            "4    13677\n",
            "dtype: int64\n"
          ],
          "name": "stdout"
        }
      ]
    },
    {
      "cell_type": "code",
      "metadata": {
        "colab": {
          "base_uri": "https://localhost:8080/",
          "height": 298
        },
        "id": "J_iCXVOWTfEQ",
        "outputId": "e464d8d6-2f3e-487d-e23f-a3f84fff045b"
      },
      "source": [
        "plt.figure(figsize=(14,4))\n",
        "sns.countplot(x = y_train, data= pd.DataFrame(y_train), palette= \"Set2\").set_title(\"Train: target distribution\")"
      ],
      "execution_count": null,
      "outputs": [
        {
          "output_type": "execute_result",
          "data": {
            "text/plain": [
              "Text(0.5, 1.0, 'Train: target distribution')"
            ]
          },
          "metadata": {
            "tags": []
          },
          "execution_count": 93
        },
        {
          "output_type": "display_data",
          "data": {
            "image/png": "[encoded data removed]",
            "text/plain": [
              "<Figure size 1008x288 with 1 Axes>"
            ]
          },
          "metadata": {
            "tags": [],
            "needs_background": "light"
          }
        }
      ]
    },
    {
      "cell_type": "code",
      "metadata": {
        "colab": {
          "base_uri": "https://localhost:8080/",
          "height": 298
        },
        "id": "876kgbksT333",
        "outputId": "56009210-f899-4865-ef3a-c5847aba01c0"
      },
      "source": [
        "plt.figure(figsize=(14,4))\n",
        "sns.countplot(x= y_test, data= pd.DataFrame(y_test), palette= \"Set2\").set_title(\"Test: target distribution\")"
      ],
      "execution_count": null,
      "outputs": [
        {
          "output_type": "execute_result",
          "data": {
            "text/plain": [
              "Text(0.5, 1.0, 'Test: target distribution')"
            ]
          },
          "metadata": {
            "tags": []
          },
          "execution_count": 96
        },
        {
          "output_type": "display_data",
          "data": {
            "image/png": "[encoded data removed]",
            "text/plain": [
              "<Figure size 1008x288 with 1 Axes>"
            ]
          },
          "metadata": {
            "tags": [],
            "needs_background": "light"
          }
        }
      ]
    },
    {
      "cell_type": "markdown",
      "metadata": {
        "id": "LasPF2w3Euv7"
      },
      "source": [
        "**KNClassifier**"
      ]
    },
    {
      "cell_type": "markdown",
      "metadata": {
        "id": "Q-j8mE3UJUrE"
      },
      "source": [
        "**Select n neighbours**"
      ]
    },
    {
      "cell_type": "code",
      "metadata": {
        "id": "xTc-poZxGnLw"
      },
      "source": [
        "def scores_knn(X, y, start, stop, step):\n",
        "\n",
        "    scores_para_df = []\n",
        "    \n",
        "    \n",
        "    for i in range(start,stop,step):\n",
        "\n",
        "        model = KNeighborsClassifier(n_neighbors=i)\n",
        "\n",
        "        kf = KFold(n_splits=3, shuffle=True, random_state=10)\n",
        "        cv_scores = cross_val_score(model, X, y, cv=kf)\n",
        "\n",
        "        dict_row_score = {'score_medio':np.mean(cv_scores),'score_std':np.std(cv_scores),'n_neighbours':i}\n",
        "\n",
        "        scores_para_df.append(dict_row_score)\n",
        "\n",
        "    df_scores = pd.DataFrame(scores_para_df)\n",
        "\n",
        "    df_scores['limite_inferior'] = df_scores['score_medio'] - df_scores['score_std']\n",
        "    df_scores['limite_superior'] = df_scores['score_medio'] + df_scores['score_std']\n",
        "    \n",
        "    return df_scores"
      ],
      "execution_count": null,
      "outputs": []
    },
    {
      "cell_type": "code",
      "metadata": {
        "colab": {
          "base_uri": "https://localhost:8080/",
          "height": 137
        },
        "id": "B3o3F5CPGWQ8",
        "outputId": "2227b2f3-f50d-40a5-9b20-5e680cefac01"
      },
      "source": [
        "df_scores = scores_knn(X_train, pd.DataFrame(y_train).values.reshape(-1), 2, 5, 1)\n",
        "df_scores"
      ],
      "execution_count": null,
      "outputs": [
        {
          "output_type": "execute_result",
          "data": {
            "text/html": [
              "<div>\n",
              "<style scoped>\n",
              "    .dataframe tbody tr th:only-of-type {\n",
              "        vertical-align: middle;\n",
              "    }\n",
              "\n",
              "    .dataframe tbody tr th {\n",
              "        vertical-align: top;\n",
              "    }\n",
              "\n",
              "    .dataframe thead th {\n",
              "        text-align: right;\n",
              "    }\n",
              "</style>\n",
              "<table border=\"1\" class=\"dataframe\">\n",
              "  <thead>\n",
              "    <tr style=\"text-align: right;\">\n",
              "      <th></th>\n",
              "      <th>score_medio</th>\n",
              "      <th>score_std</th>\n",
              "      <th>n_neighbours</th>\n",
              "      <th>limite_inferior</th>\n",
              "      <th>limite_superior</th>\n",
              "    </tr>\n",
              "  </thead>\n",
              "  <tbody>\n",
              "    <tr>\n",
              "      <th>0</th>\n",
              "      <td>0.835478</td>\n",
              "      <td>0.001571</td>\n",
              "      <td>2</td>\n",
              "      <td>0.833907</td>\n",
              "      <td>0.837049</td>\n",
              "    </tr>\n",
              "    <tr>\n",
              "      <th>1</th>\n",
              "      <td>0.812195</td>\n",
              "      <td>0.000621</td>\n",
              "      <td>3</td>\n",
              "      <td>0.811574</td>\n",
              "      <td>0.812816</td>\n",
              "    </tr>\n",
              "    <tr>\n",
              "      <th>2</th>\n",
              "      <td>0.810642</td>\n",
              "      <td>0.001198</td>\n",
              "      <td>4</td>\n",
              "      <td>0.809444</td>\n",
              "      <td>0.811841</td>\n",
              "    </tr>\n",
              "  </tbody>\n",
              "</table>\n",
              "</div>"
            ],
            "text/plain": [
              "   score_medio  score_std  n_neighbours  limite_inferior  limite_superior\n",
              "0     0.835478   0.001571             2         0.833907         0.837049\n",
              "1     0.812195   0.000621             3         0.811574         0.812816\n",
              "2     0.810642   0.001198             4         0.809444         0.811841"
            ]
          },
          "metadata": {
            "tags": []
          },
          "execution_count": 16
        }
      ]
    },
    {
      "cell_type": "code",
      "metadata": {
        "colab": {
          "base_uri": "https://localhost:8080/",
          "height": 77
        },
        "id": "5cc-mf7SInwi",
        "outputId": "b60fbb92-5b0c-4bfb-f6fb-c242c5a671a6"
      },
      "source": [
        "df_scores.loc[df_scores.score_medio == df_scores.score_medio.max()]"
      ],
      "execution_count": null,
      "outputs": [
        {
          "output_type": "execute_result",
          "data": {
            "text/html": [
              "<div>\n",
              "<style scoped>\n",
              "    .dataframe tbody tr th:only-of-type {\n",
              "        vertical-align: middle;\n",
              "    }\n",
              "\n",
              "    .dataframe tbody tr th {\n",
              "        vertical-align: top;\n",
              "    }\n",
              "\n",
              "    .dataframe thead th {\n",
              "        text-align: right;\n",
              "    }\n",
              "</style>\n",
              "<table border=\"1\" class=\"dataframe\">\n",
              "  <thead>\n",
              "    <tr style=\"text-align: right;\">\n",
              "      <th></th>\n",
              "      <th>score_medio</th>\n",
              "      <th>score_std</th>\n",
              "      <th>n_neighbours</th>\n",
              "      <th>limite_inferior</th>\n",
              "      <th>limite_superior</th>\n",
              "    </tr>\n",
              "  </thead>\n",
              "  <tbody>\n",
              "    <tr>\n",
              "      <th>0</th>\n",
              "      <td>0.835478</td>\n",
              "      <td>0.001571</td>\n",
              "      <td>2</td>\n",
              "      <td>0.833907</td>\n",
              "      <td>0.837049</td>\n",
              "    </tr>\n",
              "  </tbody>\n",
              "</table>\n",
              "</div>"
            ],
            "text/plain": [
              "   score_medio  score_std  n_neighbours  limite_inferior  limite_superior\n",
              "0     0.835478   0.001571             2         0.833907         0.837049"
            ]
          },
          "metadata": {
            "tags": []
          },
          "execution_count": 17
        }
      ]
    },
    {
      "cell_type": "code",
      "metadata": {
        "colab": {
          "base_uri": "https://localhost:8080/"
        },
        "id": "1htDCzMDIV6l",
        "outputId": "df2d00a5-c2ab-4fea-d0d1-b4dfda1e0367"
      },
      "source": [
        "best_k= df_scores.loc[df_scores.score_medio == df_scores.score_medio.max(),'n_neighbours'].values[0]\n",
        "best_k"
      ],
      "execution_count": null,
      "outputs": [
        {
          "output_type": "execute_result",
          "data": {
            "text/plain": [
              "2"
            ]
          },
          "metadata": {
            "tags": []
          },
          "execution_count": 18
        }
      ]
    },
    {
      "cell_type": "markdown",
      "metadata": {
        "id": "19MzKT69Jm9v"
      },
      "source": [
        "**KNNClassifier model**"
      ]
    },
    {
      "cell_type": "code",
      "metadata": {
        "colab": {
          "base_uri": "https://localhost:8080/"
        },
        "id": "xVVq1CyYI25z",
        "outputId": "9ab2454f-c72b-4eae-b4eb-7f906f76faef"
      },
      "source": [
        "model_knn= KNeighborsClassifier(n_neighbors=best_k)\n",
        "model_knn.fit(X_train, pd.DataFrame(y_train).values.reshape(-1))"
      ],
      "execution_count": null,
      "outputs": [
        {
          "output_type": "execute_result",
          "data": {
            "text/plain": [
              "KNeighborsClassifier(algorithm='auto', leaf_size=30, metric='minkowski',\n",
              "                     metric_params=None, n_jobs=None, n_neighbors=2, p=2,\n",
              "                     weights='uniform')"
            ]
          },
          "metadata": {
            "tags": []
          },
          "execution_count": 21
        }
      ]
    },
    {
      "cell_type": "code",
      "metadata": {
        "colab": {
          "base_uri": "https://localhost:8080/"
        },
        "id": "ayoFJMA8Jukj",
        "outputId": "81703b6a-ff43-4a3b-9e0c-5612dac9a867"
      },
      "source": [
        "accuracy_score(y_train, model_knn.predict(X_train))"
      ],
      "execution_count": null,
      "outputs": [
        {
          "output_type": "execute_result",
          "data": {
            "text/plain": [
              "0.962469116088023"
            ]
          },
          "metadata": {
            "tags": []
          },
          "execution_count": 22
        }
      ]
    },
    {
      "cell_type": "markdown",
      "metadata": {
        "id": "Ko1y-YHK5onn"
      },
      "source": [
        "<a id='testing'></a>\n",
        "## Model testing\n",
        "[Index ▲](#Index)"
      ]
    },
    {
      "cell_type": "code",
      "metadata": {
        "colab": {
          "base_uri": "https://localhost:8080/"
        },
        "id": "0BPx1nCCJ-SJ",
        "outputId": "ec0a1421-bafe-4bf5-d71c-7265f2e8027e"
      },
      "source": [
        "y_pred= model_knn.predict(X_test)\n",
        "accuracy_score(y_test, y_pred)"
      ],
      "execution_count": null,
      "outputs": [
        {
          "output_type": "execute_result",
          "data": {
            "text/plain": [
              "0.8627239078161727"
            ]
          },
          "metadata": {
            "tags": []
          },
          "execution_count": 23
        }
      ]
    },
    {
      "cell_type": "markdown",
      "metadata": {
        "id": "oS4G46064io-"
      },
      "source": [
        "**Confusion matrix**"
      ]
    },
    {
      "cell_type": "code",
      "metadata": {
        "colab": {
          "base_uri": "https://localhost:8080/",
          "height": 931
        },
        "id": "jlh7hXvbKRJr",
        "outputId": "3788e053-a61e-4c43-ac95-83ae6c177993"
      },
      "source": [
        "cm = confusion_matrix(y_test, y_pred)\n",
        "\n",
        "fig, ax = plt.subplots(figsize = (15,15))\n",
        "ax.matshow(cm)\n",
        "plt.title('Confusion Matriz', fontsize=20)\n",
        "plt.ylabel('Real Particle', fontsize=20)\n",
        "plt.xlabel('Predicted Particle', fontsize=20)\n",
        "for (i,j), z in np.ndenumerate(cm):\n",
        "\tax.text(j, i, '{:0.1f}'.format(z), ha='center', va='center')"
      ],
      "execution_count": null,
      "outputs": [
        {
          "output_type": "display_data",
          "data": {
            "image/png": "[encoded data removed]",
            "text/plain": [
              "<Figure size 1080x1080 with 1 Axes>"
            ]
          },
          "metadata": {
            "tags": [],
            "needs_background": "light"
          }
        }
      ]
    },
    {
      "cell_type": "markdown",
      "metadata": {
        "id": "TcJk5KBb50Y3"
      },
      "source": [
        "<a id='results'></a>\n",
        "## Results\n",
        "[Index ▲](#Index)"
      ]
    },
    {
      "cell_type": "markdown",
      "metadata": {
        "id": "B1hnTsBT5CDT"
      },
      "source": [
        "**Report score: precision, recall, f1-score and support**"
      ]
    },
    {
      "cell_type": "code",
      "metadata": {
        "id": "03fDm5Hn5ANX",
        "colab": {
          "base_uri": "https://localhost:8080/"
        },
        "outputId": "627a95ea-8db5-44ba-97d1-f33a147632b4"
      },
      "source": [
        "classif_report = classification_report(y_test, y_pred)\n",
        "print(classif_report)"
      ],
      "execution_count": null,
      "outputs": [
        {
          "output_type": "stream",
          "text": [
            "              precision    recall  f1-score   support\n",
            "\n",
            "           0       0.76      0.83      0.80     13731\n",
            "           1       0.75      0.76      0.75     13870\n",
            "           2       0.80      0.58      0.67     13945\n",
            "           3       0.87      0.81      0.84     14027\n",
            "           4       0.92      0.98      0.95     13677\n",
            "           5       0.93      0.98      0.95     13991\n",
            "           6       0.92      0.99      0.96     13793\n",
            "           7       0.93      0.97      0.95     14005\n",
            "\n",
            "    accuracy                           0.86    111039\n",
            "   macro avg       0.86      0.86      0.86    111039\n",
            "weighted avg       0.86      0.86      0.86    111039\n",
            "\n"
          ],
          "name": "stdout"
        }
      ]
    }
  ]
}